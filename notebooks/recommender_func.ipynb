{
 "cells": [
  {
   "cell_type": "markdown",
   "id": "4d4b0113-c5a2-4555-83d7-2febea7775a6",
   "metadata": {},
   "source": [
    "## Libraries"
   ]
  },
  {
   "cell_type": "code",
   "execution_count": 16,
   "id": "76ce2531-5015-4903-b4a7-feac598f26fe",
   "metadata": {
    "tags": []
   },
   "outputs": [],
   "source": [
    "# usual libraries\n",
    "import pandas as pd\n",
    "import numpy as np\n",
    "\n",
    "# Spotify libraries\n",
    "#import config\n",
    "import spotipy\n",
    "import json\n",
    "from spotipy.oauth2 import SpotifyClientCredentials\n",
    "import pprint"
   ]
  },
  {
   "cell_type": "code",
   "execution_count": 17,
   "id": "d8627b59-0e84-4ff8-ad01-3ce8dd0ae1a2",
   "metadata": {
    "tags": []
   },
   "outputs": [],
   "source": [
    "# Spotify API\n",
    "with open('api_id.txt') as file:\n",
    "    client_id = file.read()\n",
    "    \n",
    "with open('api_s.txt') as file:\n",
    "    client_secret = file.read()"
   ]
  },
  {
   "cell_type": "code",
   "execution_count": 18,
   "id": "b2cdcf5a-fc9b-4a73-a29f-944b2cbcddae",
   "metadata": {
    "tags": []
   },
   "outputs": [],
   "source": [
    "#Initialize SpotiPy with user credentials\n",
    "\n",
    "sp = spotipy.Spotify(auth_manager=SpotifyClientCredentials(client_id, client_secret))"
   ]
  },
  {
   "cell_type": "code",
   "execution_count": 36,
   "id": "6f603021-1d79-4448-b103-dca80307d2f7",
   "metadata": {
    "tags": []
   },
   "outputs": [],
   "source": [
    "import pickle"
   ]
  },
  {
   "cell_type": "code",
   "execution_count": 38,
   "id": "5cda09f2-acd6-4709-accf-db0d949a1ebb",
   "metadata": {
    "tags": []
   },
   "outputs": [],
   "source": [
    "#LOAD TRAINED MODEL\n",
    "with open('Gnod_Kmeans_4.pkl', 'rb') as file:\n",
    "    kmeans = pickle.load(file)\n",
    "\n",
    "# Ojo: the name of the data that you use here has to be named the same as how the model was trained (X)"
   ]
  },
  {
   "cell_type": "code",
   "execution_count": 54,
   "id": "d335175e-cc8e-4c07-95a0-ce1e9fd50db8",
   "metadata": {
    "tags": []
   },
   "outputs": [],
   "source": [
    "playlist_df = pd.read_csv(\"/Users/sashacrowe/codebase-ih/wk9_project/big_playlist_df.csv\")"
   ]
  },
  {
   "cell_type": "code",
   "execution_count": null,
   "id": "215356f1-1e37-4b83-a40d-234c4be44514",
   "metadata": {},
   "outputs": [],
   "source": []
  },
  {
   "cell_type": "markdown",
   "id": "d6cc2cef-6f30-4e7d-82d1-b16fa8479c84",
   "metadata": {},
   "source": [
    "## Functions"
   ]
  },
  {
   "cell_type": "code",
   "execution_count": 13,
   "id": "2424abc8-48e4-47b5-8c1f-c881a968c98d",
   "metadata": {
    "tags": []
   },
   "outputs": [
    {
     "name": "stdin",
     "output_type": "stream",
     "text": [
      "What song do you like? My Oh My\n"
     ]
    }
   ],
   "source": [
    "song_input = input(\"What song do you like?\").lower()\n"
   ]
  },
  {
   "cell_type": "code",
   "execution_count": null,
   "id": "c21ba16f-3a9c-4dd5-86e3-5412685f17b6",
   "metadata": {},
   "outputs": [],
   "source": [
    "artist_input = input(\"Who sings that song\")\n",
    "                     "
   ]
  },
  {
   "cell_type": "code",
   "execution_count": 34,
   "id": "3b139e67-fe03-43a6-9450-011b99f2ef08",
   "metadata": {
    "tags": []
   },
   "outputs": [],
   "source": [
    "def fetch_song_data(name):\n",
    "    # Ojo: figure out how to make the search more accurate later, somehow\n",
    "    result = sp.search(q=song_input, limit=1, market =\"DE\")\n",
    "    \n",
    "    # get the song ID\n",
    "    song_id = result[\"tracks\"][\"items\"][0][\"id\"]\n",
    "    \n",
    "    return song_id"
   ]
  },
  {
   "cell_type": "code",
   "execution_count": 35,
   "id": "880c846e-8e62-450c-adf5-a959846eb0fd",
   "metadata": {
    "tags": []
   },
   "outputs": [
    {
     "data": {
      "text/plain": [
       "'3yOlyBJuViE2YSGn3nVE1K'"
      ]
     },
     "execution_count": 35,
     "metadata": {},
     "output_type": "execute_result"
    }
   ],
   "source": [
    "fetch_song_data(song_input)"
   ]
  },
  {
   "cell_type": "code",
   "execution_count": 39,
   "id": "0d843468-137a-409b-aa38-f61340673825",
   "metadata": {
    "tags": []
   },
   "outputs": [],
   "source": [
    "song_id = fetch_song_data(song_input)"
   ]
  },
  {
   "cell_type": "code",
   "execution_count": 41,
   "id": "0396cccf-921f-41ee-8a78-2af3702bf4eb",
   "metadata": {
    "tags": []
   },
   "outputs": [],
   "source": [
    "def get_song_features(song_id):\n",
    "    # get the song features\n",
    "    feature_list = [\"danceability\",\"energy\",\"loudness\",\"speechiness\",\"acousticness\", \"instrumentalness\",\"liveness\",\"valence\",\"tempo\",\"duration_ms\"]\n",
    "    song_feats = sp.audio_features(song_id)\n",
    "    \n",
    "    feats_df = pd.DataFrame(song_feats)\n",
    "    return feats_df[feature_list]"
   ]
  },
  {
   "cell_type": "code",
   "execution_count": 42,
   "id": "44c01922-3967-4108-b28e-af16b4ba70c8",
   "metadata": {
    "tags": []
   },
   "outputs": [
    {
     "data": {
      "text/html": [
       "<div>\n",
       "<style scoped>\n",
       "    .dataframe tbody tr th:only-of-type {\n",
       "        vertical-align: middle;\n",
       "    }\n",
       "\n",
       "    .dataframe tbody tr th {\n",
       "        vertical-align: top;\n",
       "    }\n",
       "\n",
       "    .dataframe thead th {\n",
       "        text-align: right;\n",
       "    }\n",
       "</style>\n",
       "<table border=\"1\" class=\"dataframe\">\n",
       "  <thead>\n",
       "    <tr style=\"text-align: right;\">\n",
       "      <th></th>\n",
       "      <th>danceability</th>\n",
       "      <th>energy</th>\n",
       "      <th>loudness</th>\n",
       "      <th>speechiness</th>\n",
       "      <th>acousticness</th>\n",
       "      <th>instrumentalness</th>\n",
       "      <th>liveness</th>\n",
       "      <th>valence</th>\n",
       "      <th>tempo</th>\n",
       "      <th>duration_ms</th>\n",
       "    </tr>\n",
       "  </thead>\n",
       "  <tbody>\n",
       "    <tr>\n",
       "      <th>0</th>\n",
       "      <td>0.724</td>\n",
       "      <td>0.491</td>\n",
       "      <td>-6.024</td>\n",
       "      <td>0.0296</td>\n",
       "      <td>0.018</td>\n",
       "      <td>0.000013</td>\n",
       "      <td>0.0887</td>\n",
       "      <td>0.383</td>\n",
       "      <td>105.046</td>\n",
       "      <td>170746</td>\n",
       "    </tr>\n",
       "  </tbody>\n",
       "</table>\n",
       "</div>"
      ],
      "text/plain": [
       "   danceability  energy  loudness  speechiness  acousticness  \\\n",
       "0         0.724   0.491    -6.024       0.0296         0.018   \n",
       "\n",
       "   instrumentalness  liveness  valence    tempo  duration_ms  \n",
       "0          0.000013    0.0887    0.383  105.046       170746  "
      ]
     },
     "execution_count": 42,
     "metadata": {},
     "output_type": "execute_result"
    }
   ],
   "source": [
    "get_song_features(song_id)"
   ]
  },
  {
   "cell_type": "code",
   "execution_count": 45,
   "id": "f232cae0-4281-438a-8331-c030caa488e6",
   "metadata": {
    "tags": []
   },
   "outputs": [],
   "source": [
    "X = get_song_features(song_id)"
   ]
  },
  {
   "cell_type": "code",
   "execution_count": 46,
   "id": "31411d25-1164-4fde-9281-300637ea862e",
   "metadata": {
    "tags": []
   },
   "outputs": [],
   "source": [
    "def clustify(X):\n",
    "    cluster = kmeans.predict(X)\n",
    "    cluster = cluster[0] #change array to number...it will take the first one\n",
    "    return cluster\n"
   ]
  },
  {
   "cell_type": "code",
   "execution_count": 47,
   "id": "0f315ce6-cb13-472c-aec1-44a6e37ffabc",
   "metadata": {
    "tags": []
   },
   "outputs": [
    {
     "data": {
      "text/plain": [
       "1"
      ]
     },
     "execution_count": 47,
     "metadata": {},
     "output_type": "execute_result"
    }
   ],
   "source": [
    "clustify(X)"
   ]
  },
  {
   "cell_type": "code",
   "execution_count": 49,
   "id": "da8ebaed-effb-487b-b264-c54246cbaad6",
   "metadata": {
    "tags": []
   },
   "outputs": [],
   "source": [
    "cluster_num = clustify(X)"
   ]
  },
  {
   "cell_type": "code",
   "execution_count": 76,
   "id": "b2a71338-0958-4eb1-81ea-3acac4df4960",
   "metadata": {
    "tags": []
   },
   "outputs": [],
   "source": [
    "def recommender(cluster_num):\n",
    "    cluster_songs = playlist_df.loc[playlist_df['cluster'] == cluster_num] # searches for songs with the same cluster\n",
    "    random_sample = cluster_songs.sample(n=1, random_state= 42) #returns a randomly selected df of a song from the same cluster\n",
    "    song_name = random_sample['names']\n",
    "    return song_name.values[0]"
   ]
  },
  {
   "cell_type": "code",
   "execution_count": 77,
   "id": "3288419d-03a4-431c-a766-e7e25b528032",
   "metadata": {
    "tags": []
   },
   "outputs": [
    {
     "data": {
      "text/plain": [
       "'Another Love'"
      ]
     },
     "execution_count": 77,
     "metadata": {},
     "output_type": "execute_result"
    }
   ],
   "source": [
    "recommender(cluster_num)"
   ]
  },
  {
   "cell_type": "code",
   "execution_count": 78,
   "id": "c927abc2-45fe-4c8e-a4a2-b42de39e1138",
   "metadata": {
    "tags": []
   },
   "outputs": [],
   "source": [
    "recommended_song = recommender(cluster_num)"
   ]
  },
  {
   "cell_type": "code",
   "execution_count": 79,
   "id": "b8bbe563-7129-4aaa-a31c-6142c6be45bb",
   "metadata": {
    "tags": []
   },
   "outputs": [
    {
     "data": {
      "text/plain": [
       "'Another Love'"
      ]
     },
     "execution_count": 79,
     "metadata": {},
     "output_type": "execute_result"
    }
   ],
   "source": [
    "recommended_song"
   ]
  },
  {
   "cell_type": "code",
   "execution_count": null,
   "id": "c983bbf8-babb-4e64-94fa-2243ffd7de97",
   "metadata": {},
   "outputs": [],
   "source": []
  },
  {
   "cell_type": "markdown",
   "id": "bc0ce2a1-1b38-4d59-9e44-db0c4fc46854",
   "metadata": {},
   "source": [
    "**Testing stuff**"
   ]
  },
  {
   "cell_type": "code",
   "execution_count": 15,
   "id": "9213e515-95c8-4a14-b59d-d9dc8af1ef49",
   "metadata": {
    "tags": []
   },
   "outputs": [
    {
     "data": {
      "text/plain": [
       "'my oh my'"
      ]
     },
     "execution_count": 15,
     "metadata": {},
     "output_type": "execute_result"
    }
   ],
   "source": [
    "song_input"
   ]
  },
  {
   "cell_type": "raw",
   "id": "d55db092-b916-4f6b-a1c6-95650900a17b",
   "metadata": {},
   "source": [
    "{'tracks': {'href': 'https://api.spotify.com/v1/search?query=my+oh+my&type=track&market=DE&offset=0&limit=1',\n",
    "  'items': [{'album': {'album_type': 'album',\n",
    "     'artists': [{'external_urls': {'spotify': 'https://open.spotify.com/artist/4nDoRrQiYLoBzwC5BhVJzF'},\n",
    "       'href': 'https://api.spotify.com/v1/artists/4nDoRrQiYLoBzwC5BhVJzF',\n",
    "       'id': '4nDoRrQiYLoBzwC5BhVJzF',\n",
    "       'name': 'Camila Cabello',\n",
    "       'type': 'artist',\n",
    "       'uri': 'spotify:artist:4nDoRrQiYLoBzwC5BhVJzF'}],\n",
    "     'external_urls': {'spotify': 'https://open.spotify.com/album/3Vsbl0diFGw8HNSjG8ue9m'},\n",
    "     'href': 'https://api.spotify.com/v1/albums/3Vsbl0diFGw8HNSjG8ue9m',\n",
    "     'id': '3Vsbl0diFGw8HNSjG8ue9m',\n",
    "     'images': [{'height': 640,\n",
    "       'url': 'https://i.scdn.co/image/ab67616d0000b2735f53c0dbe5190a0af0fa28f3',\n",
    "       'width': 640},\n",
    "      {'height': 300,\n",
    "       'url': 'https://i.scdn.co/image/ab67616d00001e025f53c0dbe5190a0af0fa28f3',\n",
    "       'width': 300},\n",
    "      {'height': 64,\n",
    "       'url': 'https://i.scdn.co/image/ab67616d000048515f53c0dbe5190a0af0fa28f3',\n",
    "       'width': 64}],\n",
    "     'is_playable': True,\n",
    "     'name': 'Romance',\n",
    "     'release_date': '2019-12-06',\n",
    "     'release_date_precision': 'day',\n",
    "     'total_tracks': 14,\n",
    "     'type': 'album',\n",
    "     'uri': 'spotify:album:3Vsbl0diFGw8HNSjG8ue9m'},\n",
    "    'artists': [{'external_urls': {'spotify': 'https://open.spotify.com/artist/4nDoRrQiYLoBzwC5BhVJzF'},\n",
    "      'href': 'https://api.spotify.com/v1/artists/4nDoRrQiYLoBzwC5BhVJzF',\n",
    "      'id': '4nDoRrQiYLoBzwC5BhVJzF',\n",
    "      'name': 'Camila Cabello',\n",
    "      'type': 'artist',\n",
    "      'uri': 'spotify:artist:4nDoRrQiYLoBzwC5BhVJzF'},\n",
    "     {'external_urls': {'spotify': 'https://open.spotify.com/artist/4r63FhuTkUYltbVAg5TQnk'},\n",
    "      'href': 'https://api.spotify.com/v1/artists/4r63FhuTkUYltbVAg5TQnk',\n",
    "      'id': '4r63FhuTkUYltbVAg5TQnk',\n",
    "      'name': 'DaBaby',\n",
    "      'type': 'artist',\n",
    "      'uri': 'spotify:artist:4r63FhuTkUYltbVAg5TQnk'}],\n",
    "    'disc_number': 1,\n",
    "    'duration_ms': 170746,\n",
    "    'explicit': False,\n",
    "    'external_ids': {'isrc': 'USSM11914257'},\n",
    "    'external_urls': {'spotify': 'https://open.spotify.com/track/3yOlyBJuViE2YSGn3nVE1K'},\n",
    "    'href': 'https://api.spotify.com/v1/tracks/3yOlyBJuViE2YSGn3nVE1K',\n",
    "    'id': '3yOlyBJuViE2YSGn3nVE1K',\n",
    "    'is_local': False,\n",
    "    'is_playable': True,\n",
    "    'name': 'My Oh My (feat. DaBaby)',\n",
    "    'popularity': 72,\n",
    "    'preview_url': 'https://p.scdn.co/mp3-preview/ea3ba7014fbff5a201d98ddab8d94e13fe56bb16?cid=29d8d6a93be043f4828e086d0bf3b823',\n",
    "    'track_number': 4,\n",
    "    'type': 'track',\n",
    "    'uri': 'spotify:track:3yOlyBJuViE2YSGn3nVE1K'}],\n",
    "  'limit': 1,\n",
    "  'next': 'https://api.spotify.com/v1/search?query=my+oh+my&type=track&market=DE&offset=1&limit=1',\n",
    "  'offset': 0,\n",
    "  'previous': None,\n",
    "  'total': 998}}"
   ]
  },
  {
   "cell_type": "code",
   "execution_count": null,
   "id": "f85a3a40-dab8-418a-abc8-fc46d2aead72",
   "metadata": {},
   "outputs": [],
   "source": []
  },
  {
   "cell_type": "code",
   "execution_count": null,
   "id": "0828d3e8-2165-433e-a434-a040b52520a9",
   "metadata": {},
   "outputs": [],
   "source": []
  },
  {
   "cell_type": "code",
   "execution_count": null,
   "id": "f7992ce4-0ebc-45f9-88f3-24481d5417fa",
   "metadata": {},
   "outputs": [],
   "source": []
  },
  {
   "cell_type": "code",
   "execution_count": null,
   "id": "4fedd8b5-d1d8-4edf-a9e5-b1b17ab4c7c3",
   "metadata": {},
   "outputs": [],
   "source": []
  }
 ],
 "metadata": {
  "kernelspec": {
   "display_name": "Python 3 (ipykernel)",
   "language": "python",
   "name": "python3"
  },
  "language_info": {
   "codemirror_mode": {
    "name": "ipython",
    "version": 3
   },
   "file_extension": ".py",
   "mimetype": "text/x-python",
   "name": "python",
   "nbconvert_exporter": "python",
   "pygments_lexer": "ipython3",
   "version": "3.11.9"
  }
 },
 "nbformat": 4,
 "nbformat_minor": 5
}
